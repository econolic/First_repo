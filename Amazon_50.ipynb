{
 "cells": [
  {
   "cell_type": "code",
   "execution_count": 16,
   "metadata": {},
   "outputs": [
    {
     "data": {
      "text/html": [
       "<div>\n",
       "<style scoped>\n",
       "    .dataframe tbody tr th:only-of-type {\n",
       "        vertical-align: middle;\n",
       "    }\n",
       "\n",
       "    .dataframe tbody tr th {\n",
       "        vertical-align: top;\n",
       "    }\n",
       "\n",
       "    .dataframe thead th {\n",
       "        text-align: right;\n",
       "    }\n",
       "</style>\n",
       "<table border=\"1\" class=\"dataframe\">\n",
       "  <thead>\n",
       "    <tr style=\"text-align: right;\">\n",
       "      <th></th>\n",
       "      <th>Name</th>\n",
       "      <th>Author</th>\n",
       "      <th>User Rating</th>\n",
       "      <th>Reviews</th>\n",
       "      <th>Price</th>\n",
       "      <th>Year</th>\n",
       "      <th>Genre</th>\n",
       "    </tr>\n",
       "  </thead>\n",
       "  <tbody>\n",
       "    <tr>\n",
       "      <th>0</th>\n",
       "      <td>10-Day Green Smoothie Cleanse</td>\n",
       "      <td>JJ Smith</td>\n",
       "      <td>4.7</td>\n",
       "      <td>17350</td>\n",
       "      <td>8</td>\n",
       "      <td>2016</td>\n",
       "      <td>Non Fiction</td>\n",
       "    </tr>\n",
       "    <tr>\n",
       "      <th>1</th>\n",
       "      <td>11/22/63: A Novel</td>\n",
       "      <td>Stephen King</td>\n",
       "      <td>4.6</td>\n",
       "      <td>2052</td>\n",
       "      <td>22</td>\n",
       "      <td>2011</td>\n",
       "      <td>Fiction</td>\n",
       "    </tr>\n",
       "    <tr>\n",
       "      <th>2</th>\n",
       "      <td>12 Rules for Life: An Antidote to Chaos</td>\n",
       "      <td>Jordan B. Peterson</td>\n",
       "      <td>4.7</td>\n",
       "      <td>18979</td>\n",
       "      <td>15</td>\n",
       "      <td>2018</td>\n",
       "      <td>Non Fiction</td>\n",
       "    </tr>\n",
       "    <tr>\n",
       "      <th>3</th>\n",
       "      <td>1984 (Signet Classics)</td>\n",
       "      <td>George Orwell</td>\n",
       "      <td>4.7</td>\n",
       "      <td>21424</td>\n",
       "      <td>6</td>\n",
       "      <td>2017</td>\n",
       "      <td>Fiction</td>\n",
       "    </tr>\n",
       "    <tr>\n",
       "      <th>4</th>\n",
       "      <td>5,000 Awesome Facts (About Everything!) (Natio...</td>\n",
       "      <td>National Geographic Kids</td>\n",
       "      <td>4.8</td>\n",
       "      <td>7665</td>\n",
       "      <td>12</td>\n",
       "      <td>2019</td>\n",
       "      <td>Non Fiction</td>\n",
       "    </tr>\n",
       "  </tbody>\n",
       "</table>\n",
       "</div>"
      ],
      "text/plain": [
       "                                                Name  \\\n",
       "0                      10-Day Green Smoothie Cleanse   \n",
       "1                                  11/22/63: A Novel   \n",
       "2            12 Rules for Life: An Antidote to Chaos   \n",
       "3                             1984 (Signet Classics)   \n",
       "4  5,000 Awesome Facts (About Everything!) (Natio...   \n",
       "\n",
       "                     Author  User Rating  Reviews  Price  Year        Genre  \n",
       "0                  JJ Smith          4.7    17350      8  2016  Non Fiction  \n",
       "1              Stephen King          4.6     2052     22  2011      Fiction  \n",
       "2        Jordan B. Peterson          4.7    18979     15  2018  Non Fiction  \n",
       "3             George Orwell          4.7    21424      6  2017      Fiction  \n",
       "4  National Geographic Kids          4.8     7665     12  2019  Non Fiction  "
      ]
     },
     "metadata": {},
     "output_type": "display_data"
    }
   ],
   "source": [
    "import pandas as pd\n",
    "\n",
    "df = pd.read_csv(f'{path}/bestsellers with categories.csv')\n",
    "display(df.head())"
   ]
  },
  {
   "cell_type": "code",
   "execution_count": 17,
   "metadata": {},
   "outputs": [],
   "source": [
    "df.columns = ['name', 'author', 'user_rating', 'reviews', 'price', 'year', 'genre']"
   ]
  },
  {
   "cell_type": "code",
   "execution_count": 20,
   "metadata": {},
   "outputs": [
    {
     "data": {
      "text/plain": [
       "(550, 7)"
      ]
     },
     "execution_count": 20,
     "metadata": {},
     "output_type": "execute_result"
    }
   ],
   "source": [
    "df.shape"
   ]
  },
  {
   "cell_type": "code",
   "execution_count": 18,
   "metadata": {},
   "outputs": [
    {
     "data": {
      "text/plain": [
       "name           0\n",
       "author         0\n",
       "user_rating    0\n",
       "reviews        0\n",
       "price          0\n",
       "year           0\n",
       "genre          0\n",
       "dtype: int64"
      ]
     },
     "execution_count": 18,
     "metadata": {},
     "output_type": "execute_result"
    }
   ],
   "source": [
    "df.isna().sum()"
   ]
  },
  {
   "cell_type": "code",
   "execution_count": 25,
   "metadata": {},
   "outputs": [
    {
     "data": {
      "text/plain": [
       "name            object\n",
       "author          object\n",
       "user_rating    float64\n",
       "reviews          int64\n",
       "price            int64\n",
       "year             int64\n",
       "genre           object\n",
       "dtype: object"
      ]
     },
     "execution_count": 25,
     "metadata": {},
     "output_type": "execute_result"
    }
   ],
   "source": [
    "df.dtypes"
   ]
  },
  {
   "cell_type": "code",
   "execution_count": 24,
   "metadata": {},
   "outputs": [
    {
     "name": "stdout",
     "output_type": "stream",
     "text": [
      "['Non Fiction' 'Fiction']\n"
     ]
    }
   ],
   "source": [
    "print(df['genre'].unique())"
   ]
  },
  {
   "cell_type": "code",
   "execution_count": 27,
   "metadata": {},
   "outputs": [
    {
     "data": {
      "image/png": "[encoded data removed]",
      "text/plain": [
       "<Figure size 800x500 with 1 Axes>"
      ]
     },
     "metadata": {},
     "output_type": "display_data"
    }
   ],
   "source": [
    "import matplotlib.pyplot as plt\n",
    "\n",
    "df['price'].plot(kind='hist', bins=20, figsize=(8, 5), title='Розподіл цін')\n",
    "plt.xlabel('Ціна')\n",
    "plt.ylabel('Частота')\n",
    "plt.show()"
   ]
  },
  {
   "cell_type": "code",
   "execution_count": 29,
   "metadata": {},
   "outputs": [
    {
     "name": "stdout",
     "output_type": "stream",
     "text": [
      "Максимальна ціна: 105\n",
      "Мінімальна ціна: 0\n",
      "Середня ціна: 13.1\n",
      "Медіанна ціна: 11.0\n"
     ]
    }
   ],
   "source": [
    "max_price = df['price'].max()\n",
    "min_price = df['price'].min()\n",
    "mean_price = df['price'].mean()\n",
    "median_price = df['price'].median()\n",
    "\n",
    "print(\"Максимальна ціна:\", max_price)\n",
    "print(\"Мінімальна ціна:\", min_price)\n",
    "print(\"Середня ціна:\", mean_price)\n",
    "print(\"Медіанна ціна:\", median_price)"
   ]
  },
  {
   "cell_type": "code",
   "execution_count": 31,
   "metadata": {},
   "outputs": [
    {
     "name": "stdout",
     "output_type": "stream",
     "text": [
      "Найвищий рейтинг у датасеті: 4.9\n",
      "Кількість книг із цим рейтингом: 52\n",
      "Книга з найбільшою кількістю відгуків: Where the Crawdads Sing\n",
      "Найдорожча книга серед тих, що у 2015 році: Publication Manual of the American Psychological Association, 6th Edition\n",
      "Кількість книг жанру Fiction у 2010 році: 20\n",
      "Кількість книг з рейтингом 4.9 у 2010 та 2011 роках: 1\n",
      "Остання книга у відсортованому списку (2015, ціна < 8, сортування за зростанням): Old School (Diary of a Wimpy Kid #10)\n"
     ]
    }
   ],
   "source": [
    "# 1. Який рейтинг у датасеті найвищий?\n",
    "max_rating = df['user_rating'].max()\n",
    "\n",
    "# 2. Скільки книг мають такий рейтинг?\n",
    "count_max_rating = df[df['user_rating'] == max_rating].shape[0]\n",
    "\n",
    "# 3. Яка книга має найбільше відгуків?\n",
    "#    Спочатку визначимо максимальну кількість відгуків\n",
    "max_reviews = df['reviews'].max()\n",
    "#    Потім виберемо рядок/рядки з максимальною кількістю відгуків\n",
    "book_with_max_reviews = df[df['reviews'] == max_reviews]['name'].values[0]\n",
    "\n",
    "# 4. З тих книг, що потрапили до Топ-50 у 2015 році, яка найдорожча?\n",
    "df_2015 = df[df['year'] == 2015]\n",
    "max_price_2015 = df_2015['price'].max()\n",
    "book_max_price_2015 = df_2015[df_2015['price'] == max_price_2015]['name'].values[0]\n",
    "\n",
    "# 5. Скільки книг жанру Fiction потрапили до Топ-50 у 2010 році?\n",
    "df_2010_fiction = df[(df['year'] == 2010) & (df['genre'] == 'Fiction')]\n",
    "count_2010_fiction = df_2010_fiction.shape[0]\n",
    "\n",
    "# 6. Скільки книг з рейтингом 4.9 потрапило до рейтингу у 2010 та 2011 роках?\n",
    "df_2010_2011_49 = df[(df['year'].isin([2010, 2011])) & (df['user_rating'] == 4.9)]\n",
    "count_2010_2011_49 = df_2010_2011_49.shape[0]\n",
    "\n",
    "# 7. Відсортуємо за зростанням ціни всі книги, які потрапили до рейтингу в 2015 році\n",
    "#    і коштують дешевше за 8 доларів; виведемо останню книгу у відсортованому списку\n",
    "df_2015_less8 = df[(df['year'] == 2015) & (df['price'] < 8)].sort_values('price')\n",
    "last_book_2015_less8 = df_2015_less8.iloc[-1]['name'] if not df_2015_less8.empty else None\n",
    "\n",
    "# Вивід результатів\n",
    "print(f\"Найвищий рейтинг у датасеті: {max_rating}\")\n",
    "print(f\"Кількість книг із цим рейтингом: {count_max_rating}\")\n",
    "print(f\"Книга з найбільшою кількістю відгуків: {book_with_max_reviews}\")\n",
    "print(f\"Найдорожча книга серед тих, що у 2015 році: {book_max_price_2015}\")\n",
    "print(f\"Кількість книг жанру Fiction у 2010 році: {count_2010_fiction}\")\n",
    "print(f\"Кількість книг з рейтингом 4.9 у 2010 та 2011 роках: {count_2010_2011_49}\")\n",
    "print(f\"Остання книга у відсортованому списку (2015, ціна < 8, сортування за зростанням): {last_book_2015_less8}\")"
   ]
  },
  {
   "cell_type": "code",
   "execution_count": 32,
   "metadata": {},
   "outputs": [
    {
     "name": "stdout",
     "output_type": "stream",
     "text": [
      "Максимальна ціна для жанру Fiction: 82\n",
      "Мінімальна ціна для жанру Fiction: 0\n",
      "Максимальна ціна для жанру Non Fiction: 105\n",
      "Мінімальна ціна для жанру Non Fiction: 0\n",
      "\n",
      "Розмірність таблиці з кількістю книг по авторах: (248, 2)\n",
      "Автор із найбільшою кількістю книг: Jeff Kinney\n",
      "Кількість книг у цього автора: 12\n",
      "\n",
      "Автор із мінімальним середнім рейтингом: Donna Tartt\n",
      "Середній рейтинг цього автора: 3.9\n",
      "\n",
      "Перший автор у відсортованому списку: Muriel Barbery\n"
     ]
    }
   ],
   "source": [
    "# 1. Максимальна та мінімальна ціни для кожного жанру\n",
    "#    Використовуємо groupby + agg, залишаємо лише стовпець 'price'.\n",
    "price_by_genre = df.groupby('genre')['price'].agg(['min', 'max'])\n",
    "\n",
    "# Дістанемо значення для Fiction\n",
    "max_price_fiction = price_by_genre.loc['Fiction', 'max']\n",
    "min_price_fiction = price_by_genre.loc['Fiction', 'min']\n",
    "\n",
    "# Дістанемо значення для Non Fiction\n",
    "max_price_non_fiction = price_by_genre.loc['Non Fiction', 'max']\n",
    "min_price_non_fiction = price_by_genre.loc['Non Fiction', 'min']\n",
    "\n",
    "print(\"Максимальна ціна для жанру Fiction:\", max_price_fiction)\n",
    "print(\"Мінімальна ціна для жанру Fiction:\", min_price_fiction)\n",
    "print(\"Максимальна ціна для жанру Non Fiction:\", max_price_non_fiction)\n",
    "print(\"Мінімальна ціна для жанру Non Fiction:\", min_price_non_fiction)\n",
    "\n",
    "# 2. Новий датафрейм з кількістю книг для кожного автора\n",
    "#    Використовуємо groupby за 'author' та підраховуємо кількість назв (name).\n",
    "books_by_author = df.groupby('author', as_index=False).agg({'name': 'count'})\n",
    "books_by_author.rename(columns={'name': 'count_books'}, inplace=True)\n",
    "\n",
    "# Перевіримо розмірність таблиці\n",
    "dimension_books_by_author = books_by_author.shape\n",
    "\n",
    "# Знайдемо автора з найбільшою кількістю книг\n",
    "max_books_idx = books_by_author['count_books'].idxmax()\n",
    "max_books_author = books_by_author.loc[max_books_idx, 'author']\n",
    "max_books_count = books_by_author.loc[max_books_idx, 'count_books']\n",
    "\n",
    "print(\"\\nРозмірність таблиці з кількістю книг по авторах:\", dimension_books_by_author)\n",
    "print(\"Автор із найбільшою кількістю книг:\", max_books_author)\n",
    "print(\"Кількість книг у цього автора:\", max_books_count)\n",
    "\n",
    "# 3. Другий датафрейм, який містить середній рейтинг для кожного автора\n",
    "rating_by_author = df.groupby('author', as_index=False).agg({'user_rating': 'mean'})\n",
    "rating_by_author.rename(columns={'user_rating': 'avg_rating'}, inplace=True)\n",
    "\n",
    "# Знайдемо мінімальний середній рейтинг\n",
    "min_rating_idx = rating_by_author['avg_rating'].idxmin()\n",
    "min_rating_author = rating_by_author.loc[min_rating_idx, 'author']\n",
    "min_avg_rating = rating_by_author.loc[min_rating_idx, 'avg_rating']\n",
    "\n",
    "print(\"\\nАвтор із мінімальним середнім рейтингом:\", min_rating_author)\n",
    "print(\"Середній рейтинг цього автора:\", min_avg_rating)\n",
    "\n",
    "# 4. З'єднаємо два датафрейми (books_by_author та rating_by_author),\n",
    "#    щоб для кожного автора була і кількість книг, і середній рейтинг.\n",
    "#    Використовуємо concat з параметром axis=1, \n",
    "#    попередньо встановивши 'author' як індекс у кожному з них.\n",
    "books_by_author_indexed = books_by_author.set_index('author')\n",
    "rating_by_author_indexed = rating_by_author.set_index('author')\n",
    "\n",
    "merged_df = pd.concat([books_by_author_indexed, rating_by_author_indexed], axis=1)\n",
    "\n",
    "# 5. Відсортуємо отриманий датафрейм за зростанням кількості книг,\n",
    "#    а потім за зростанням середнього рейтингу (avg_rating).\n",
    "merged_sorted = merged_df.sort_values(by=['count_books', 'avg_rating'], ascending=[True, True])\n",
    "\n",
    "# Відповідь: Який автор перший у списку?\n",
    "# Оскільки зараз 'author' – це індекс, отримаємо ім'я автора через .index[0].\n",
    "first_author = merged_sorted.index[0]\n",
    "\n",
    "print(\"\\nПерший автор у відсортованому списку:\", first_author)"
   ]
  }
 ],
 "metadata": {
  "kernelspec": {
   "display_name": "Python 3",
   "language": "python",
   "name": "python3"
  },
  "language_info": {
   "codemirror_mode": {
    "name": "ipython",
    "version": 3
   },
   "file_extension": ".py",
   "mimetype": "text/x-python",
   "name": "python",
   "nbconvert_exporter": "python",
   "pygments_lexer": "ipython3",
   "version": "3.10.11"
  }
 },
 "nbformat": 4,
 "nbformat_minor": 2
}
